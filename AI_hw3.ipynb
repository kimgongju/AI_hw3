{
  "cells": [
    {
      "cell_type": "markdown",
      "metadata": {
        "id": "PL1jjzMp6APr"
      },
      "source": [
        "# Import Library\n",
        "\n",
        "\n",
        "\n",
        "\n"
      ]
    },
    {
      "cell_type": "code",
      "execution_count": 48,
      "metadata": {
        "id": "434h_zufG4y-"
      },
      "outputs": [],
      "source": [
        "import matplotlib.pyplot as plt\n",
        "import seaborn as sns\n",
        "import string\n",
        "import datetime\n",
        "import numpy as np # linear algebra\n",
        "import pandas as pd # data processing, CSV file I/O (e.g. pd.read_csv)\n",
        "\n",
        "from xgboost import XGBClassifier\n",
        "from sklearn.feature_extraction import DictVectorizer\n",
        "from sklearn.linear_model import LogisticRegression\n",
        "from sklearn.preprocessing import LabelEncoder\n",
        "from sklearn import preprocessing\n",
        "from PIL import Image\n",
        "from wordcloud import WordCloud, STOPWORDS, ImageColorGenerator\n",
        "from sklearn.feature_extraction.text import CountVectorizer, TfidfVectorizer\n",
        "from sklearn.cluster import KMeans\n",
        "from sklearn.decomposition import PCA\n",
        "from sklearn.manifold import TSNE"
      ]
    },
    {
      "cell_type": "markdown",
      "metadata": {
        "id": "h_MV_FgJ6QpZ"
      },
      "source": [
        "# Read Data"
      ]
    },
    {
      "cell_type": "code",
      "execution_count": 49,
      "metadata": {
        "id": "XKOAqh0lHdhK"
      },
      "outputs": [],
      "source": [
        "train_work = pd.read_csv('./sample_data/work_train.csv')\n",
        "test_work = pd.read_csv('./sample_data/work_test.csv')\n",
        "train_info = pd.read_csv('./sample_data/info_train.csv')\n",
        "test_info = pd.read_csv('./sample_data/info_test.csv')\n",
        "y_train = pd.read_csv('./sample_data/label_train.csv')"
      ]
    },
    {
      "cell_type": "markdown",
      "metadata": {
        "id": "U4QqISaK6m0Z"
      },
      "source": [
        "# Preprocessing"
      ]
    },
    {
      "cell_type": "markdown",
      "metadata": {
        "id": "Qkj9BO2F6x2G"
      },
      "source": [
        "**Fill the missing data, \n",
        "change from uppercase to lowercase, and delete punctuation**"
      ]
    },
    {
      "cell_type": "code",
      "execution_count": 50,
      "metadata": {
        "id": "cPdc1nQGHyZW"
      },
      "outputs": [],
      "source": [
        "assert 'NA' not in train_work['job/role'].values\n",
        "assert 'NA' not in test_work['job/role'].values\n",
        "\n",
        "train_work['job/role'].fillna('NA', inplace=True)\n",
        "test_work['job/role'].fillna('NA', inplace=True)\n",
        "\n",
        "train_work['job/role'] = train_work['job/role'].str.lower()\n",
        "test_work['job/role'] = test_work['job/role'].str.lower()"
      ]
    },
    {
      "cell_type": "code",
      "execution_count": 51,
      "metadata": {
        "id": "YBGju0ka7BiN"
      },
      "outputs": [],
      "source": [
        "assert 'NA' not in train_work['address'].values\n",
        "assert 'NA' not in test_work['address'].values\n",
        "\n",
        "train_work['address'].fillna('NA', inplace=True)\n",
        "test_work['address'].fillna('NA', inplace=True)\n",
        "\n",
        "train_work['address'] = train_work['address'].str.lower()\n",
        "test_work['address'] = test_work['address'].str.lower()"
      ]
    },
    {
      "cell_type": "code",
      "execution_count": 52,
      "metadata": {
        "id": "_7EuK0_R7Frj"
      },
      "outputs": [],
      "source": [
        "assert 'NA' not in train_info['address'].values\n",
        "assert 'NA' not in test_info['address'].values\n",
        "\n",
        "train_info['address'].fillna('NA', inplace=True)\n",
        "test_info['address'].fillna('NA', inplace=True)\n",
        "\n",
        "train_info['address'] = train_info['address'].str.lower()\n",
        "test_info['address'] = test_info['address'].str.lower()"
      ]
    },
    {
      "cell_type": "code",
      "execution_count": 53,
      "metadata": {
        "id": "M-7lJoQZ7Qcn"
      },
      "outputs": [],
      "source": [
        "assert 'NA' not in train_work['id_office'].values\n",
        "assert 'NA' not in test_work['id_office'].values\n",
        "\n",
        "train_work['id_office'].fillna('NA', inplace=True)\n",
        "test_work['id_office'].fillna('NA', inplace=True)\n",
        "\n",
        "train_work['id_office'] = train_work['id_office'].str.lower()\n",
        "test_work['id_office'] = test_work['id_office'].str.lower()"
      ]
    },
    {
      "cell_type": "code",
      "execution_count": 54,
      "metadata": {
        "colab": {
          "base_uri": "https://localhost:8080/",
          "height": 424
        },
        "id": "nhl0IVRbH0P2",
        "outputId": "5b1bfbda-564f-46d6-bf48-b901003f6048"
      },
      "outputs": [
        {
          "data": {
            "text/html": [
              "<div>\n",
              "<style scoped>\n",
              "    .dataframe tbody tr th:only-of-type {\n",
              "        vertical-align: middle;\n",
              "    }\n",
              "\n",
              "    .dataframe tbody tr th {\n",
              "        vertical-align: top;\n",
              "    }\n",
              "\n",
              "    .dataframe thead th {\n",
              "        text-align: right;\n",
              "    }\n",
              "</style>\n",
              "<table border=\"1\" class=\"dataframe\">\n",
              "  <thead>\n",
              "    <tr style=\"text-align: right;\">\n",
              "      <th></th>\n",
              "      <th>id</th>\n",
              "      <th>id_bh</th>\n",
              "      <th>id_management</th>\n",
              "      <th>id_office</th>\n",
              "      <th>company_type</th>\n",
              "      <th>job/role</th>\n",
              "      <th>from_date</th>\n",
              "      <th>to_date</th>\n",
              "      <th>employee_lv</th>\n",
              "      <th>address</th>\n",
              "    </tr>\n",
              "  </thead>\n",
              "  <tbody>\n",
              "    <tr>\n",
              "      <th>0</th>\n",
              "      <td>1</td>\n",
              "      <td>113039360</td>\n",
              "      <td>106</td>\n",
              "      <td>tf2212f</td>\n",
              "      <td>-1</td>\n",
              "      <td>giám đốc</td>\n",
              "      <td>20130100</td>\n",
              "      <td>20151200</td>\n",
              "      <td>7.0</td>\n",
              "      <td>hà nội</td>\n",
              "    </tr>\n",
              "    <tr>\n",
              "      <th>1</th>\n",
              "      <td>1</td>\n",
              "      <td>113039360</td>\n",
              "      <td>106</td>\n",
              "      <td>tf2212f</td>\n",
              "      <td>-1</td>\n",
              "      <td>giám đốc</td>\n",
              "      <td>20160100</td>\n",
              "      <td>20220400</td>\n",
              "      <td>10.0</td>\n",
              "      <td>hà nội</td>\n",
              "    </tr>\n",
              "    <tr>\n",
              "      <th>2</th>\n",
              "      <td>2</td>\n",
              "      <td>116074930</td>\n",
              "      <td>102</td>\n",
              "      <td>tb16010</td>\n",
              "      <td>-1</td>\n",
              "      <td>nhân viên lễ tân</td>\n",
              "      <td>20160600</td>\n",
              "      <td>20161200</td>\n",
              "      <td>7.0</td>\n",
              "      <td>hà nội</td>\n",
              "    </tr>\n",
              "    <tr>\n",
              "      <th>3</th>\n",
              "      <td>2</td>\n",
              "      <td>116074930</td>\n",
              "      <td>102</td>\n",
              "      <td>tb16010</td>\n",
              "      <td>-1</td>\n",
              "      <td>nhân viên lễ tân</td>\n",
              "      <td>20170100</td>\n",
              "      <td>20170300</td>\n",
              "      <td>8.0</td>\n",
              "      <td>hà nội</td>\n",
              "    </tr>\n",
              "    <tr>\n",
              "      <th>4</th>\n",
              "      <td>2</td>\n",
              "      <td>116074930</td>\n",
              "      <td>102</td>\n",
              "      <td>na</td>\n",
              "      <td>-1</td>\n",
              "      <td>na</td>\n",
              "      <td>20170400</td>\n",
              "      <td>20170700</td>\n",
              "      <td>-1.0</td>\n",
              "      <td>na</td>\n",
              "    </tr>\n",
              "    <tr>\n",
              "      <th>...</th>\n",
              "      <td>...</td>\n",
              "      <td>...</td>\n",
              "      <td>...</td>\n",
              "      <td>...</td>\n",
              "      <td>...</td>\n",
              "      <td>...</td>\n",
              "      <td>...</td>\n",
              "      <td>...</td>\n",
              "      <td>...</td>\n",
              "      <td>...</td>\n",
              "    </tr>\n",
              "    <tr>\n",
              "      <th>247554</th>\n",
              "      <td>55008</td>\n",
              "      <td>2616117553</td>\n",
              "      <td>2600</td>\n",
              "      <td>yn0027z</td>\n",
              "      <td>-1</td>\n",
              "      <td>công nhân đm rôbốt</td>\n",
              "      <td>20100800</td>\n",
              "      <td>20100900</td>\n",
              "      <td>2.0</td>\n",
              "      <td>na</td>\n",
              "    </tr>\n",
              "    <tr>\n",
              "      <th>247555</th>\n",
              "      <td>55008</td>\n",
              "      <td>2616117553</td>\n",
              "      <td>2600</td>\n",
              "      <td>na</td>\n",
              "      <td>-1</td>\n",
              "      <td>na</td>\n",
              "      <td>20101000</td>\n",
              "      <td>20161000</td>\n",
              "      <td>-1.0</td>\n",
              "      <td>na</td>\n",
              "    </tr>\n",
              "    <tr>\n",
              "      <th>247556</th>\n",
              "      <td>55008</td>\n",
              "      <td>2616117553</td>\n",
              "      <td>2600</td>\n",
              "      <td>tz0085z</td>\n",
              "      <td>1</td>\n",
              "      <td>phụ kho</td>\n",
              "      <td>20161100</td>\n",
              "      <td>20171200</td>\n",
              "      <td>6.0</td>\n",
              "      <td>vĩnh phúc</td>\n",
              "    </tr>\n",
              "    <tr>\n",
              "      <th>247557</th>\n",
              "      <td>55008</td>\n",
              "      <td>2616117553</td>\n",
              "      <td>2600</td>\n",
              "      <td>tz0085z</td>\n",
              "      <td>1</td>\n",
              "      <td>phụ kho</td>\n",
              "      <td>20180100</td>\n",
              "      <td>20191200</td>\n",
              "      <td>8.0</td>\n",
              "      <td>vĩnh phúc</td>\n",
              "    </tr>\n",
              "    <tr>\n",
              "      <th>247558</th>\n",
              "      <td>55008</td>\n",
              "      <td>2616117553</td>\n",
              "      <td>2600</td>\n",
              "      <td>tz0085z</td>\n",
              "      <td>1</td>\n",
              "      <td>phụ kho</td>\n",
              "      <td>20200100</td>\n",
              "      <td>20210200</td>\n",
              "      <td>9.0</td>\n",
              "      <td>vĩnh phúc</td>\n",
              "    </tr>\n",
              "  </tbody>\n",
              "</table>\n",
              "<p>247559 rows × 10 columns</p>\n",
              "</div>"
            ],
            "text/plain": [
              "           id       id_bh  id_management id_office  company_type  \\\n",
              "0           1   113039360            106   tf2212f            -1   \n",
              "1           1   113039360            106   tf2212f            -1   \n",
              "2           2   116074930            102   tb16010            -1   \n",
              "3           2   116074930            102   tb16010            -1   \n",
              "4           2   116074930            102        na            -1   \n",
              "...       ...         ...            ...       ...           ...   \n",
              "247554  55008  2616117553           2600   yn0027z            -1   \n",
              "247555  55008  2616117553           2600        na            -1   \n",
              "247556  55008  2616117553           2600   tz0085z             1   \n",
              "247557  55008  2616117553           2600   tz0085z             1   \n",
              "247558  55008  2616117553           2600   tz0085z             1   \n",
              "\n",
              "                  job/role  from_date   to_date  employee_lv    address  \n",
              "0                 giám đốc   20130100  20151200          7.0     hà nội  \n",
              "1                 giám đốc   20160100  20220400         10.0     hà nội  \n",
              "2         nhân viên lễ tân   20160600  20161200          7.0     hà nội  \n",
              "3         nhân viên lễ tân   20170100  20170300          8.0     hà nội  \n",
              "4                       na   20170400  20170700         -1.0         na  \n",
              "...                    ...        ...       ...          ...        ...  \n",
              "247554  công nhân đm rôbốt   20100800  20100900          2.0         na  \n",
              "247555                  na   20101000  20161000         -1.0         na  \n",
              "247556             phụ kho   20161100  20171200          6.0  vĩnh phúc  \n",
              "247557             phụ kho   20180100  20191200          8.0  vĩnh phúc  \n",
              "247558             phụ kho   20200100  20210200          9.0  vĩnh phúc  \n",
              "\n",
              "[247559 rows x 10 columns]"
            ]
          },
          "execution_count": 54,
          "metadata": {},
          "output_type": "execute_result"
        }
      ],
      "source": [
        "train_work"
      ]
    },
    {
      "cell_type": "code",
      "execution_count": 55,
      "metadata": {
        "id": "ztTniYuR9JVr"
      },
      "outputs": [],
      "source": [
        "def remove_punctuation(txt):\n",
        "  txt_nopunct = \"\".join([c for c in txt if c not in string.punctuation])\n",
        "  \n",
        "  return txt_nopunct"
      ]
    },
    {
      "cell_type": "code",
      "execution_count": 56,
      "metadata": {
        "id": "MsH96JC9-PeE"
      },
      "outputs": [],
      "source": [
        "train_work['address'] = train_work['address'].apply(lambda x: remove_punctuation(x))\n",
        "test_work['address'] = test_work['address'].apply(lambda x: remove_punctuation(x))\n",
        "train_info['address'] = train_info['address'].apply(lambda x: remove_punctuation(x))\n",
        "test_info['address'] = test_info['address'].apply(lambda x: remove_punctuation(x))\n"
      ]
    },
    {
      "cell_type": "code",
      "execution_count": 57,
      "metadata": {
        "id": "7eJw4SID-Zym"
      },
      "outputs": [],
      "source": [
        "train_work['job/role'] = train_work['job/role'].apply(lambda x: remove_punctuation(x))\n",
        "test_work['job/role'] = test_work['job/role'].apply(lambda x: remove_punctuation(x))"
      ]
    },
    {
      "cell_type": "markdown",
      "metadata": {
        "id": "Drkz2yyw7hME"
      },
      "source": [
        "**Change from_date and to_date to datetime type**"
      ]
    },
    {
      "cell_type": "code",
      "execution_count": 58,
      "metadata": {
        "id": "fW2ymyixoiOu"
      },
      "outputs": [],
      "source": [
        "def conv_date(date_int):\n",
        "  date_str = str(date_int)\n",
        "  y = int(date_str[0:4])\n",
        "  m = int(date_str[4:6])\n",
        "  d = 1\n",
        "  \n",
        "  return pd.Timestamp(y, m, d)"
      ]
    },
    {
      "cell_type": "code",
      "execution_count": 59,
      "metadata": {
        "id": "SGsky0eNonKr"
      },
      "outputs": [],
      "source": [
        "train_work['from_date'] = train_work.from_date.apply(conv_date)\n",
        "train_work['to_date'] = train_work.to_date.apply(conv_date)\n",
        "test_work['from_date'] = test_work.from_date.apply(conv_date)\n",
        "test_work['to_date'] = test_work.to_date.apply(conv_date)"
      ]
    },
    {
      "cell_type": "code",
      "execution_count": 60,
      "metadata": {
        "id": "s0JYNnkt-u_R"
      },
      "outputs": [],
      "source": [
        "def diff_months(row):\n",
        "  from_date = row['from_date']\n",
        "  to_date = row['to_date']\n",
        "\n",
        "  return (to_date.to_period('M') - from_date.to_period('M')).n"
      ]
    },
    {
      "cell_type": "code",
      "execution_count": 61,
      "metadata": {
        "id": "nVv3JOwj-wSW"
      },
      "outputs": [],
      "source": [
        "train_work['elapsed_months'] = train_work.apply(lambda row: diff_months(row), axis=1)\n",
        "test_work['elapsed_months'] = test_work.apply(lambda row: diff_months(row), axis=1)"
      ]
    },
    {
      "cell_type": "markdown",
      "metadata": {
        "id": "Wtgv5hKv_A0O"
      },
      "source": [
        "**Calculate cumulative_work Duration for each person's work records**"
      ]
    },
    {
      "cell_type": "code",
      "execution_count": 62,
      "metadata": {
        "id": "gAePvtEg_Cdn"
      },
      "outputs": [],
      "source": [
        "train_work['cumulative_work'] = train_work.groupby(['id_bh'])['elapsed_months'].apply(lambda x: x.cumsum())\n",
        "test_work['cumulative_work'] = test_work.groupby(['id_bh'])['elapsed_months'].apply(lambda x: x.cumsum())"
      ]
    },
    {
      "cell_type": "code",
      "execution_count": 63,
      "metadata": {
        "id": "esCIzUYS_G1R"
      },
      "outputs": [],
      "source": [
        "train_ids = train_info['id_bh']\n",
        "test_ids = test_info['id_bh']\n",
        "for id in train_ids:\n",
        "  works = train_work[train_work['id_bh'] == id]\n",
        "  if works.to_date.is_monotonic_increasing == False:\n",
        "    print(f\"Not sorted id {id}\")\n",
        "    break"
      ]
    },
    {
      "cell_type": "code",
      "execution_count": 64,
      "metadata": {
        "id": "nrmuThO6_iQu"
      },
      "outputs": [],
      "source": [
        "for id in test_ids:\n",
        "  works = test_work[test_work['id_bh'] == id]\n",
        "  if works.to_date.is_monotonic_increasing == False:\n",
        "    print(f\"Not sorted id {id}\")\n",
        "    break"
      ]
    },
    {
      "cell_type": "markdown",
      "metadata": {
        "id": "YaYX4irvADa5"
      },
      "source": [
        "**Keep first 2 tokens in the `job/role` field**"
      ]
    },
    {
      "cell_type": "code",
      "execution_count": 65,
      "metadata": {
        "id": "yg3i61VLADBs"
      },
      "outputs": [],
      "source": [
        "def keep_first_two_tokens(value):\n",
        "  if isinstance(value, str) and len(value.split(\" \")) > 2:\n",
        "    tokens = value.split(\" \")\n",
        "    return tokens[0] + \" \" + tokens[1]\n",
        "  else:\n",
        "    return value"
      ]
    },
    {
      "cell_type": "code",
      "execution_count": 66,
      "metadata": {
        "id": "AdgUsF0JAIEG"
      },
      "outputs": [],
      "source": [
        "train_work['jobType'] = train_work['job/role'].apply(lambda x: keep_first_two_tokens(x))\n",
        "test_work['jobType'] = test_work['job/role'].apply(lambda x: keep_first_two_tokens(x))"
      ]
    },
    {
      "cell_type": "markdown",
      "metadata": {
        "id": "ruXwu58TBJj6"
      },
      "source": [
        "**Take the last 2 tokens in the `address` field and copy to `**"
      ]
    },
    {
      "cell_type": "code",
      "execution_count": 67,
      "metadata": {
        "id": "sXeV7aa-BhV_"
      },
      "outputs": [],
      "source": [
        "def keep_last_two_tokens(value):\n",
        "  if isinstance(value, str) and len(value.split(\" \")) > 2:\n",
        "    tokens = value.split(\" \")\n",
        "    return tokens[-2] + \" \" + tokens[-1]\n",
        "  else:\n",
        "    return value"
      ]
    },
    {
      "cell_type": "code",
      "execution_count": 68,
      "metadata": {
        "id": "s88pWgHrBkpk"
      },
      "outputs": [],
      "source": [
        "train_work['addressNor'] = train_work.address.map(lambda x: keep_last_two_tokens(x))\n",
        "test_work['addressNor'] = test_work.address.map(lambda x: keep_last_two_tokens(x))\n",
        "\n",
        "train_info['addressNor'] = train_info.address.map(lambda x: keep_last_two_tokens(x))\n",
        "test_info['addressNor'] = test_info.address.map(lambda x: keep_last_two_tokens(x))"
      ]
    },
    {
      "cell_type": "markdown",
      "metadata": {
        "id": "PLzUoNq6Dk09"
      },
      "source": [
        "**Join tables**"
      ]
    },
    {
      "cell_type": "code",
      "execution_count": 69,
      "metadata": {
        "colab": {
          "base_uri": "https://localhost:8080/",
          "height": 357
        },
        "id": "ro81yTFhDNa2",
        "outputId": "048b4db0-8542-4071-a042-a170eafccd23"
      },
      "outputs": [
        {
          "data": {
            "text/html": [
              "<div>\n",
              "<style scoped>\n",
              "    .dataframe tbody tr th:only-of-type {\n",
              "        vertical-align: middle;\n",
              "    }\n",
              "\n",
              "    .dataframe tbody tr th {\n",
              "        vertical-align: top;\n",
              "    }\n",
              "\n",
              "    .dataframe thead th {\n",
              "        text-align: right;\n",
              "    }\n",
              "</style>\n",
              "<table border=\"1\" class=\"dataframe\">\n",
              "  <thead>\n",
              "    <tr style=\"text-align: right;\">\n",
              "      <th></th>\n",
              "      <th>id</th>\n",
              "      <th>id_bh</th>\n",
              "      <th>id_management</th>\n",
              "      <th>id_office</th>\n",
              "      <th>company_type</th>\n",
              "      <th>job/role</th>\n",
              "      <th>from_date</th>\n",
              "      <th>to_date</th>\n",
              "      <th>employee_lv</th>\n",
              "      <th>address_x</th>\n",
              "      <th>elapsed_months</th>\n",
              "      <th>cumulative_work</th>\n",
              "      <th>jobType</th>\n",
              "      <th>addressNor_x</th>\n",
              "      <th>bithYear</th>\n",
              "      <th>gender</th>\n",
              "      <th>address_y</th>\n",
              "      <th>addressNor_y</th>\n",
              "    </tr>\n",
              "  </thead>\n",
              "  <tbody>\n",
              "    <tr>\n",
              "      <th>0</th>\n",
              "      <td>1</td>\n",
              "      <td>113039360</td>\n",
              "      <td>106</td>\n",
              "      <td>tf2212f</td>\n",
              "      <td>-1</td>\n",
              "      <td>giám đốc</td>\n",
              "      <td>2013-01-01</td>\n",
              "      <td>2015-12-01</td>\n",
              "      <td>7.0</td>\n",
              "      <td>hà nội</td>\n",
              "      <td>35</td>\n",
              "      <td>35</td>\n",
              "      <td>giám đốc</td>\n",
              "      <td>hà nội</td>\n",
              "      <td>1971</td>\n",
              "      <td>MALE</td>\n",
              "      <td>hà nội</td>\n",
              "      <td>hà nội</td>\n",
              "    </tr>\n",
              "    <tr>\n",
              "      <th>1</th>\n",
              "      <td>1</td>\n",
              "      <td>113039360</td>\n",
              "      <td>106</td>\n",
              "      <td>tf2212f</td>\n",
              "      <td>-1</td>\n",
              "      <td>giám đốc</td>\n",
              "      <td>2016-01-01</td>\n",
              "      <td>2022-04-01</td>\n",
              "      <td>10.0</td>\n",
              "      <td>hà nội</td>\n",
              "      <td>75</td>\n",
              "      <td>110</td>\n",
              "      <td>giám đốc</td>\n",
              "      <td>hà nội</td>\n",
              "      <td>1971</td>\n",
              "      <td>MALE</td>\n",
              "      <td>hà nội</td>\n",
              "      <td>hà nội</td>\n",
              "    </tr>\n",
              "    <tr>\n",
              "      <th>2</th>\n",
              "      <td>2</td>\n",
              "      <td>116074930</td>\n",
              "      <td>102</td>\n",
              "      <td>tb16010</td>\n",
              "      <td>-1</td>\n",
              "      <td>nhân viên lễ tân</td>\n",
              "      <td>2016-06-01</td>\n",
              "      <td>2016-12-01</td>\n",
              "      <td>7.0</td>\n",
              "      <td>hà nội</td>\n",
              "      <td>6</td>\n",
              "      <td>6</td>\n",
              "      <td>nhân viên</td>\n",
              "      <td>hà nội</td>\n",
              "      <td>1993</td>\n",
              "      <td>FEMALE</td>\n",
              "      <td>thành phố hà nội</td>\n",
              "      <td>hà nội</td>\n",
              "    </tr>\n",
              "    <tr>\n",
              "      <th>3</th>\n",
              "      <td>2</td>\n",
              "      <td>116074930</td>\n",
              "      <td>102</td>\n",
              "      <td>tb16010</td>\n",
              "      <td>-1</td>\n",
              "      <td>nhân viên lễ tân</td>\n",
              "      <td>2017-01-01</td>\n",
              "      <td>2017-03-01</td>\n",
              "      <td>8.0</td>\n",
              "      <td>hà nội</td>\n",
              "      <td>2</td>\n",
              "      <td>8</td>\n",
              "      <td>nhân viên</td>\n",
              "      <td>hà nội</td>\n",
              "      <td>1993</td>\n",
              "      <td>FEMALE</td>\n",
              "      <td>thành phố hà nội</td>\n",
              "      <td>hà nội</td>\n",
              "    </tr>\n",
              "    <tr>\n",
              "      <th>4</th>\n",
              "      <td>2</td>\n",
              "      <td>116074930</td>\n",
              "      <td>102</td>\n",
              "      <td>na</td>\n",
              "      <td>-1</td>\n",
              "      <td>na</td>\n",
              "      <td>2017-04-01</td>\n",
              "      <td>2017-07-01</td>\n",
              "      <td>-1.0</td>\n",
              "      <td>na</td>\n",
              "      <td>3</td>\n",
              "      <td>11</td>\n",
              "      <td>na</td>\n",
              "      <td>na</td>\n",
              "      <td>1993</td>\n",
              "      <td>FEMALE</td>\n",
              "      <td>thành phố hà nội</td>\n",
              "      <td>hà nội</td>\n",
              "    </tr>\n",
              "  </tbody>\n",
              "</table>\n",
              "</div>"
            ],
            "text/plain": [
              "   id      id_bh  id_management id_office  company_type          job/role  \\\n",
              "0   1  113039360            106   tf2212f            -1          giám đốc   \n",
              "1   1  113039360            106   tf2212f            -1          giám đốc   \n",
              "2   2  116074930            102   tb16010            -1  nhân viên lễ tân   \n",
              "3   2  116074930            102   tb16010            -1  nhân viên lễ tân   \n",
              "4   2  116074930            102        na            -1                na   \n",
              "\n",
              "   from_date    to_date  employee_lv address_x  elapsed_months  \\\n",
              "0 2013-01-01 2015-12-01          7.0    hà nội              35   \n",
              "1 2016-01-01 2022-04-01         10.0    hà nội              75   \n",
              "2 2016-06-01 2016-12-01          7.0    hà nội               6   \n",
              "3 2017-01-01 2017-03-01          8.0    hà nội               2   \n",
              "4 2017-04-01 2017-07-01         -1.0        na               3   \n",
              "\n",
              "   cumulative_work    jobType addressNor_x  bithYear  gender  \\\n",
              "0               35   giám đốc       hà nội      1971    MALE   \n",
              "1              110   giám đốc       hà nội      1971    MALE   \n",
              "2                6  nhân viên       hà nội      1993  FEMALE   \n",
              "3                8  nhân viên       hà nội      1993  FEMALE   \n",
              "4               11         na           na      1993  FEMALE   \n",
              "\n",
              "          address_y addressNor_y  \n",
              "0            hà nội       hà nội  \n",
              "1            hà nội       hà nội  \n",
              "2  thành phố hà nội       hà nội  \n",
              "3  thành phố hà nội       hà nội  \n",
              "4  thành phố hà nội       hà nội  "
            ]
          },
          "execution_count": 69,
          "metadata": {},
          "output_type": "execute_result"
        }
      ],
      "source": [
        "train_merged = pd.merge(train_work, train_info, on='id_bh', how=\"inner\")\n",
        "test_merged = pd.merge(test_work, test_info, on='id_bh', how=\"inner\")\n",
        "train_merged.head()"
      ]
    },
    {
      "cell_type": "code",
      "execution_count": 70,
      "metadata": {
        "id": "tHIwd5g_DijE"
      },
      "outputs": [],
      "source": [
        "train_merged = pd.merge(train_merged, y_train, on='id_bh', how=\"inner\")"
      ]
    },
    {
      "cell_type": "markdown",
      "metadata": {
        "id": "iv7nMEutCSer"
      },
      "source": [
        "**Merge Work Tables**"
      ]
    },
    {
      "cell_type": "code",
      "execution_count": 71,
      "metadata": {
        "id": "old3e6DfCQrN"
      },
      "outputs": [],
      "source": [
        "train_merged['train_or_test'] = 'train'\n",
        "test_merged['train_or_test'] = 'test'"
      ]
    },
    {
      "cell_type": "code",
      "execution_count": 72,
      "metadata": {
        "colab": {
          "base_uri": "https://localhost:8080/"
        },
        "id": "OB92xUobCnTY",
        "outputId": "b9ac6bd1-a165-43f1-a086-d4860ee76c39"
      },
      "outputs": [
        {
          "name": "stdout",
          "output_type": "stream",
          "text": [
            "247559 + 162283 = 409842\n"
          ]
        }
      ],
      "source": [
        "print(f\"{len(train_merged)} + {len(test_merged)} = {len(train_merged) + len(test_merged)}\")"
      ]
    },
    {
      "cell_type": "code",
      "execution_count": 73,
      "metadata": {
        "id": "tpepXFw_Cr4z"
      },
      "outputs": [],
      "source": [
        "merged_work = pd.merge(left=train_merged, right=test_merged, how='outer')"
      ]
    },
    {
      "cell_type": "code",
      "execution_count": 74,
      "metadata": {
        "id": "146ZThs7JdXY"
      },
      "outputs": [],
      "source": [
        "label_encoder = preprocessing.LabelEncoder()"
      ]
    },
    {
      "cell_type": "markdown",
      "metadata": {
        "id": "sQHrsDn6EnFa"
      },
      "source": [
        "**Encode**"
      ]
    },
    {
      "cell_type": "code",
      "execution_count": 75,
      "metadata": {
        "id": "nx1BGQTMJ568"
      },
      "outputs": [],
      "source": [
        "merged_work['job_encoded'] = label_encoder.fit_transform(merged_work['job/role'])"
      ]
    },
    {
      "cell_type": "code",
      "execution_count": 76,
      "metadata": {
        "id": "I24KabhJEiEy"
      },
      "outputs": [],
      "source": [
        "merged_work['io_encoded'] = label_encoder.fit_transform(merged_work['id_office'])\n",
        "merged_work['addx_encoded'] = label_encoder.fit_transform(merged_work['address_x'])\n",
        "merged_work['jobtype_encoded'] = label_encoder.fit_transform(merged_work['jobType'])\n",
        "merged_work['addnorx_encoded'] = label_encoder.fit_transform(merged_work['addressNor_x'])\n",
        "merged_work['addy_encoded'] = label_encoder.fit_transform(merged_work['address_y'])\n",
        "merged_work['addnory_encoded'] = label_encoder.fit_transform(merged_work['addressNor_y'])"
      ]
    },
    {
      "cell_type": "code",
      "execution_count": 77,
      "metadata": {
        "colab": {
          "base_uri": "https://localhost:8080/"
        },
        "id": "sXMVu6XnCqHC",
        "outputId": "e23537a1-b906-4624-bc90-b88f8a75bc33"
      },
      "outputs": [
        {
          "name": "stdout",
          "output_type": "stream",
          "text": [
            "<class 'pandas.core.frame.DataFrame'>\n",
            "Int64Index: 409842 entries, 0 to 409841\n",
            "Data columns (total 27 columns):\n",
            " #   Column           Non-Null Count   Dtype         \n",
            "---  ------           --------------   -----         \n",
            " 0   id               409842 non-null  int64         \n",
            " 1   id_bh            409842 non-null  int64         \n",
            " 2   id_management    409842 non-null  int64         \n",
            " 3   id_office        409842 non-null  object        \n",
            " 4   company_type     409842 non-null  int64         \n",
            " 5   job/role         409842 non-null  object        \n",
            " 6   from_date        409842 non-null  datetime64[ns]\n",
            " 7   to_date          409842 non-null  datetime64[ns]\n",
            " 8   employee_lv      409834 non-null  float64       \n",
            " 9   address_x        409842 non-null  object        \n",
            " 10  elapsed_months   409842 non-null  int64         \n",
            " 11  cumulative_work  409842 non-null  int64         \n",
            " 12  jobType          409842 non-null  object        \n",
            " 13  addressNor_x     409842 non-null  object        \n",
            " 14  bithYear         409842 non-null  int64         \n",
            " 15  gender           409842 non-null  object        \n",
            " 16  address_y        409842 non-null  object        \n",
            " 17  addressNor_y     409842 non-null  object        \n",
            " 18  label            247559 non-null  float64       \n",
            " 19  train_or_test    409842 non-null  object        \n",
            " 20  job_encoded      409842 non-null  int32         \n",
            " 21  io_encoded       409842 non-null  int32         \n",
            " 22  addx_encoded     409842 non-null  int32         \n",
            " 23  jobtype_encoded  409842 non-null  int32         \n",
            " 24  addnorx_encoded  409842 non-null  int32         \n",
            " 25  addy_encoded     409842 non-null  int32         \n",
            " 26  addnory_encoded  409842 non-null  int32         \n",
            "dtypes: datetime64[ns](2), float64(2), int32(7), int64(7), object(9)\n",
            "memory usage: 76.6+ MB\n"
          ]
        }
      ],
      "source": [
        "merged_work.info()"
      ]
    },
    {
      "cell_type": "code",
      "execution_count": 78,
      "metadata": {
        "id": "kZHX_MosF3WC"
      },
      "outputs": [],
      "source": [
        "merged_work_shortcut = merged_work.drop(['id_office', 'job/role', 'from_date', 'to_date', 'address_x', 'address_y', 'elapsed_months', 'jobType', 'addressNor_x', 'addressNor_y' ], axis = 1)"
      ]
    },
    {
      "cell_type": "code",
      "execution_count": 79,
      "metadata": {
        "colab": {
          "base_uri": "https://localhost:8080/",
          "height": 488
        },
        "id": "OtKifi7HGr5H",
        "outputId": "af728d3c-1062-4d55-eb39-6a07f1fec3b7"
      },
      "outputs": [
        {
          "data": {
            "text/html": [
              "<div>\n",
              "<style scoped>\n",
              "    .dataframe tbody tr th:only-of-type {\n",
              "        vertical-align: middle;\n",
              "    }\n",
              "\n",
              "    .dataframe tbody tr th {\n",
              "        vertical-align: top;\n",
              "    }\n",
              "\n",
              "    .dataframe thead th {\n",
              "        text-align: right;\n",
              "    }\n",
              "</style>\n",
              "<table border=\"1\" class=\"dataframe\">\n",
              "  <thead>\n",
              "    <tr style=\"text-align: right;\">\n",
              "      <th></th>\n",
              "      <th>id</th>\n",
              "      <th>id_bh</th>\n",
              "      <th>id_management</th>\n",
              "      <th>company_type</th>\n",
              "      <th>employee_lv</th>\n",
              "      <th>cumulative_work</th>\n",
              "      <th>bithYear</th>\n",
              "      <th>gender</th>\n",
              "      <th>label</th>\n",
              "      <th>train_or_test</th>\n",
              "      <th>job_encoded</th>\n",
              "      <th>io_encoded</th>\n",
              "      <th>addx_encoded</th>\n",
              "      <th>jobtype_encoded</th>\n",
              "      <th>addnorx_encoded</th>\n",
              "      <th>addy_encoded</th>\n",
              "      <th>addnory_encoded</th>\n",
              "    </tr>\n",
              "  </thead>\n",
              "  <tbody>\n",
              "    <tr>\n",
              "      <th>0</th>\n",
              "      <td>1</td>\n",
              "      <td>113039360</td>\n",
              "      <td>106</td>\n",
              "      <td>-1</td>\n",
              "      <td>7.0</td>\n",
              "      <td>35</td>\n",
              "      <td>1971</td>\n",
              "      <td>MALE</td>\n",
              "      <td>4.0</td>\n",
              "      <td>train</td>\n",
              "      <td>15122</td>\n",
              "      <td>10173</td>\n",
              "      <td>408</td>\n",
              "      <td>1160</td>\n",
              "      <td>219</td>\n",
              "      <td>397</td>\n",
              "      <td>385</td>\n",
              "    </tr>\n",
              "    <tr>\n",
              "      <th>1</th>\n",
              "      <td>1</td>\n",
              "      <td>113039360</td>\n",
              "      <td>106</td>\n",
              "      <td>-1</td>\n",
              "      <td>10.0</td>\n",
              "      <td>110</td>\n",
              "      <td>1971</td>\n",
              "      <td>MALE</td>\n",
              "      <td>4.0</td>\n",
              "      <td>train</td>\n",
              "      <td>15122</td>\n",
              "      <td>10173</td>\n",
              "      <td>408</td>\n",
              "      <td>1160</td>\n",
              "      <td>219</td>\n",
              "      <td>397</td>\n",
              "      <td>385</td>\n",
              "    </tr>\n",
              "    <tr>\n",
              "      <th>2</th>\n",
              "      <td>2</td>\n",
              "      <td>116074930</td>\n",
              "      <td>102</td>\n",
              "      <td>-1</td>\n",
              "      <td>7.0</td>\n",
              "      <td>6</td>\n",
              "      <td>1993</td>\n",
              "      <td>FEMALE</td>\n",
              "      <td>2.0</td>\n",
              "      <td>train</td>\n",
              "      <td>22938</td>\n",
              "      <td>7991</td>\n",
              "      <td>408</td>\n",
              "      <td>1863</td>\n",
              "      <td>219</td>\n",
              "      <td>715</td>\n",
              "      <td>385</td>\n",
              "    </tr>\n",
              "    <tr>\n",
              "      <th>3</th>\n",
              "      <td>2</td>\n",
              "      <td>116074930</td>\n",
              "      <td>102</td>\n",
              "      <td>-1</td>\n",
              "      <td>8.0</td>\n",
              "      <td>8</td>\n",
              "      <td>1993</td>\n",
              "      <td>FEMALE</td>\n",
              "      <td>2.0</td>\n",
              "      <td>train</td>\n",
              "      <td>22938</td>\n",
              "      <td>7991</td>\n",
              "      <td>408</td>\n",
              "      <td>1863</td>\n",
              "      <td>219</td>\n",
              "      <td>715</td>\n",
              "      <td>385</td>\n",
              "    </tr>\n",
              "    <tr>\n",
              "      <th>4</th>\n",
              "      <td>2</td>\n",
              "      <td>116074930</td>\n",
              "      <td>102</td>\n",
              "      <td>-1</td>\n",
              "      <td>-1.0</td>\n",
              "      <td>11</td>\n",
              "      <td>1993</td>\n",
              "      <td>FEMALE</td>\n",
              "      <td>2.0</td>\n",
              "      <td>train</td>\n",
              "      <td>20531</td>\n",
              "      <td>4424</td>\n",
              "      <td>583</td>\n",
              "      <td>1787</td>\n",
              "      <td>347</td>\n",
              "      <td>715</td>\n",
              "      <td>385</td>\n",
              "    </tr>\n",
              "    <tr>\n",
              "      <th>...</th>\n",
              "      <td>...</td>\n",
              "      <td>...</td>\n",
              "      <td>...</td>\n",
              "      <td>...</td>\n",
              "      <td>...</td>\n",
              "      <td>...</td>\n",
              "      <td>...</td>\n",
              "      <td>...</td>\n",
              "      <td>...</td>\n",
              "      <td>...</td>\n",
              "      <td>...</td>\n",
              "      <td>...</td>\n",
              "      <td>...</td>\n",
              "      <td>...</td>\n",
              "      <td>...</td>\n",
              "      <td>...</td>\n",
              "      <td>...</td>\n",
              "    </tr>\n",
              "    <tr>\n",
              "      <th>409837</th>\n",
              "      <td>54995</td>\n",
              "      <td>2615002452</td>\n",
              "      <td>2600</td>\n",
              "      <td>-1</td>\n",
              "      <td>8.0</td>\n",
              "      <td>53</td>\n",
              "      <td>1984</td>\n",
              "      <td>FEMALE</td>\n",
              "      <td>NaN</td>\n",
              "      <td>test</td>\n",
              "      <td>9186</td>\n",
              "      <td>16137</td>\n",
              "      <td>1377</td>\n",
              "      <td>853</td>\n",
              "      <td>775</td>\n",
              "      <td>957</td>\n",
              "      <td>760</td>\n",
              "    </tr>\n",
              "    <tr>\n",
              "      <th>409838</th>\n",
              "      <td>54995</td>\n",
              "      <td>2615002452</td>\n",
              "      <td>2600</td>\n",
              "      <td>-1</td>\n",
              "      <td>9.0</td>\n",
              "      <td>74</td>\n",
              "      <td>1984</td>\n",
              "      <td>FEMALE</td>\n",
              "      <td>NaN</td>\n",
              "      <td>test</td>\n",
              "      <td>9186</td>\n",
              "      <td>16137</td>\n",
              "      <td>1377</td>\n",
              "      <td>853</td>\n",
              "      <td>775</td>\n",
              "      <td>957</td>\n",
              "      <td>760</td>\n",
              "    </tr>\n",
              "    <tr>\n",
              "      <th>409839</th>\n",
              "      <td>54995</td>\n",
              "      <td>2615002452</td>\n",
              "      <td>2600</td>\n",
              "      <td>-1</td>\n",
              "      <td>10.0</td>\n",
              "      <td>79</td>\n",
              "      <td>1984</td>\n",
              "      <td>FEMALE</td>\n",
              "      <td>NaN</td>\n",
              "      <td>test</td>\n",
              "      <td>9186</td>\n",
              "      <td>16137</td>\n",
              "      <td>1377</td>\n",
              "      <td>853</td>\n",
              "      <td>775</td>\n",
              "      <td>957</td>\n",
              "      <td>760</td>\n",
              "    </tr>\n",
              "    <tr>\n",
              "      <th>409840</th>\n",
              "      <td>55003</td>\n",
              "      <td>2621579999</td>\n",
              "      <td>2600</td>\n",
              "      <td>6</td>\n",
              "      <td>24.0</td>\n",
              "      <td>0</td>\n",
              "      <td>1984</td>\n",
              "      <td>MALE</td>\n",
              "      <td>NaN</td>\n",
              "      <td>test</td>\n",
              "      <td>15165</td>\n",
              "      <td>3853</td>\n",
              "      <td>1304</td>\n",
              "      <td>1160</td>\n",
              "      <td>775</td>\n",
              "      <td>508</td>\n",
              "      <td>496</td>\n",
              "    </tr>\n",
              "    <tr>\n",
              "      <th>409841</th>\n",
              "      <td>55003</td>\n",
              "      <td>2621579999</td>\n",
              "      <td>2600</td>\n",
              "      <td>6</td>\n",
              "      <td>18.0</td>\n",
              "      <td>12</td>\n",
              "      <td>1984</td>\n",
              "      <td>MALE</td>\n",
              "      <td>NaN</td>\n",
              "      <td>test</td>\n",
              "      <td>15165</td>\n",
              "      <td>3853</td>\n",
              "      <td>1304</td>\n",
              "      <td>1160</td>\n",
              "      <td>775</td>\n",
              "      <td>508</td>\n",
              "      <td>496</td>\n",
              "    </tr>\n",
              "  </tbody>\n",
              "</table>\n",
              "<p>409842 rows × 17 columns</p>\n",
              "</div>"
            ],
            "text/plain": [
              "           id       id_bh  id_management  company_type  employee_lv  \\\n",
              "0           1   113039360            106            -1          7.0   \n",
              "1           1   113039360            106            -1         10.0   \n",
              "2           2   116074930            102            -1          7.0   \n",
              "3           2   116074930            102            -1          8.0   \n",
              "4           2   116074930            102            -1         -1.0   \n",
              "...       ...         ...            ...           ...          ...   \n",
              "409837  54995  2615002452           2600            -1          8.0   \n",
              "409838  54995  2615002452           2600            -1          9.0   \n",
              "409839  54995  2615002452           2600            -1         10.0   \n",
              "409840  55003  2621579999           2600             6         24.0   \n",
              "409841  55003  2621579999           2600             6         18.0   \n",
              "\n",
              "        cumulative_work  bithYear  gender  label train_or_test  job_encoded  \\\n",
              "0                    35      1971    MALE    4.0         train        15122   \n",
              "1                   110      1971    MALE    4.0         train        15122   \n",
              "2                     6      1993  FEMALE    2.0         train        22938   \n",
              "3                     8      1993  FEMALE    2.0         train        22938   \n",
              "4                    11      1993  FEMALE    2.0         train        20531   \n",
              "...                 ...       ...     ...    ...           ...          ...   \n",
              "409837               53      1984  FEMALE    NaN          test         9186   \n",
              "409838               74      1984  FEMALE    NaN          test         9186   \n",
              "409839               79      1984  FEMALE    NaN          test         9186   \n",
              "409840                0      1984    MALE    NaN          test        15165   \n",
              "409841               12      1984    MALE    NaN          test        15165   \n",
              "\n",
              "        io_encoded  addx_encoded  jobtype_encoded  addnorx_encoded  \\\n",
              "0            10173           408             1160              219   \n",
              "1            10173           408             1160              219   \n",
              "2             7991           408             1863              219   \n",
              "3             7991           408             1863              219   \n",
              "4             4424           583             1787              347   \n",
              "...            ...           ...              ...              ...   \n",
              "409837       16137          1377              853              775   \n",
              "409838       16137          1377              853              775   \n",
              "409839       16137          1377              853              775   \n",
              "409840        3853          1304             1160              775   \n",
              "409841        3853          1304             1160              775   \n",
              "\n",
              "        addy_encoded  addnory_encoded  \n",
              "0                397              385  \n",
              "1                397              385  \n",
              "2                715              385  \n",
              "3                715              385  \n",
              "4                715              385  \n",
              "...              ...              ...  \n",
              "409837           957              760  \n",
              "409838           957              760  \n",
              "409839           957              760  \n",
              "409840           508              496  \n",
              "409841           508              496  \n",
              "\n",
              "[409842 rows x 17 columns]"
            ]
          },
          "execution_count": 79,
          "metadata": {},
          "output_type": "execute_result"
        }
      ],
      "source": [
        "merged_work_shortcut"
      ]
    },
    {
      "cell_type": "code",
      "execution_count": 80,
      "metadata": {
        "colab": {
          "base_uri": "https://localhost:8080/"
        },
        "id": "32FhWkojKKHf",
        "outputId": "2a47418f-9ffb-480e-b5a3-50eb2ee98b5a"
      },
      "outputs": [
        {
          "name": "stderr",
          "output_type": "stream",
          "text": [
            "C:\\Users\\Kyoraku\\AppData\\Local\\Temp\\ipykernel_5788\\1968491522.py:4: SettingWithCopyWarning: \n",
            "A value is trying to be set on a copy of a slice from a DataFrame\n",
            "\n",
            "See the caveats in the documentation: https://pandas.pydata.org/pandas-docs/stable/user_guide/indexing.html#returning-a-view-versus-a-copy\n",
            "  train_work.drop(columns=['train_or_test'], inplace=True)\n",
            "C:\\Users\\Kyoraku\\AppData\\Local\\Temp\\ipykernel_5788\\1968491522.py:5: SettingWithCopyWarning: \n",
            "A value is trying to be set on a copy of a slice from a DataFrame\n",
            "\n",
            "See the caveats in the documentation: https://pandas.pydata.org/pandas-docs/stable/user_guide/indexing.html#returning-a-view-versus-a-copy\n",
            "  test_work.drop(columns=['train_or_test'], inplace=True)\n"
          ]
        }
      ],
      "source": [
        "train_work = merged_work_shortcut[merged_work['train_or_test'] == 'train']\n",
        "test_work = merged_work_shortcut[merged_work['train_or_test'] == 'test']\n",
        "\n",
        "train_work.drop(columns=['train_or_test'], inplace=True)\n",
        "test_work.drop(columns=['train_or_test'], inplace=True)"
      ]
    },
    {
      "cell_type": "code",
      "execution_count": 81,
      "metadata": {
        "id": "WqTM8s5jIRFR"
      },
      "outputs": [],
      "source": [
        "test_work = test_work.reset_index()"
      ]
    },
    {
      "cell_type": "code",
      "execution_count": 82,
      "metadata": {
        "id": "TWv-pB3vG7sK"
      },
      "outputs": [],
      "source": [
        "test_work.drop(columns=['label'], inplace = True)"
      ]
    },
    {
      "cell_type": "code",
      "execution_count": 83,
      "metadata": {
        "id": "QSRCFscOJHSv"
      },
      "outputs": [],
      "source": [
        "test_work.drop(columns=['index'], inplace = True)"
      ]
    },
    {
      "cell_type": "code",
      "execution_count": 84,
      "metadata": {
        "id": "VQMQinPeIFyh"
      },
      "outputs": [],
      "source": [
        "train_work = train_work.drop_duplicates(subset=['id'], keep='last')\n",
        "test_work = test_work.drop_duplicates(subset=['id'], keep='last')"
      ]
    },
    {
      "cell_type": "code",
      "execution_count": 85,
      "metadata": {
        "colab": {
          "base_uri": "https://localhost:8080/"
        },
        "id": "dv4w7qKfHgmK",
        "outputId": "f1ebbc87-2470-4022-f738-b2d90320cf94"
      },
      "outputs": [
        {
          "name": "stdout",
          "output_type": "stream",
          "text": [
            "<class 'pandas.core.frame.DataFrame'>\n",
            "Int64Index: 27502 entries, 1 to 247558\n",
            "Data columns (total 16 columns):\n",
            " #   Column           Non-Null Count  Dtype  \n",
            "---  ------           --------------  -----  \n",
            " 0   id               27502 non-null  int64  \n",
            " 1   id_bh            27502 non-null  int64  \n",
            " 2   id_management    27502 non-null  int64  \n",
            " 3   company_type     27502 non-null  int64  \n",
            " 4   employee_lv      27502 non-null  float64\n",
            " 5   cumulative_work  27502 non-null  int64  \n",
            " 6   bithYear         27502 non-null  int64  \n",
            " 7   gender           27502 non-null  object \n",
            " 8   label            27502 non-null  float64\n",
            " 9   job_encoded      27502 non-null  int32  \n",
            " 10  io_encoded       27502 non-null  int32  \n",
            " 11  addx_encoded     27502 non-null  int32  \n",
            " 12  jobtype_encoded  27502 non-null  int32  \n",
            " 13  addnorx_encoded  27502 non-null  int32  \n",
            " 14  addy_encoded     27502 non-null  int32  \n",
            " 15  addnory_encoded  27502 non-null  int32  \n",
            "dtypes: float64(2), int32(7), int64(6), object(1)\n",
            "memory usage: 2.8+ MB\n"
          ]
        }
      ],
      "source": [
        "train_work.info()"
      ]
    },
    {
      "cell_type": "code",
      "execution_count": 86,
      "metadata": {
        "colab": {
          "base_uri": "https://localhost:8080/"
        },
        "id": "KEC8-344MSLG",
        "outputId": "f94e5638-039c-44ee-894f-fa0f0ae93238"
      },
      "outputs": [],
      "source": [
        "train_work['label'] = train_work['label'].astype(np.int64)"
      ]
    },
    {
      "cell_type": "code",
      "execution_count": 87,
      "metadata": {
        "colab": {
          "base_uri": "https://localhost:8080/"
        },
        "id": "W5MxD3BAK1_e",
        "outputId": "bb1ae531-4dcf-4261-d4ac-60560931e077"
      },
      "outputs": [
        {
          "name": "stdout",
          "output_type": "stream",
          "text": [
            "[ 2.1900e+02  3.8500e+02  4.0800e+02  7.1500e+02  1.9930e+03 -1.0000e+00\n",
            "  4.9000e+01  9.0000e+00  1.0000e+00  0.0000e+00  1.0200e+02  7.9910e+03\n",
            "  2.3967e+04  1.8630e+03]\n"
          ]
        }
      ],
      "source": [
        "vec = DictVectorizer()\n",
        "train_data = train_work[['job_encoded','jobtype_encoded', 'employee_lv', 'bithYear','gender', 'company_type','cumulative_work', 'id_management', 'io_encoded',\n",
        "                         'addx_encoded', 'addnorx_encoded', 'addy_encoded', 'addnory_encoded']].to_dict('records')\n",
        "X_train = vec.fit_transform(train_data).toarray()\n",
        "print(X_train[1])"
      ]
    },
    {
      "cell_type": "code",
      "execution_count": 88,
      "metadata": {
        "colab": {
          "base_uri": "https://localhost:8080/"
        },
        "id": "3LVgGuswLGiI",
        "outputId": "8f199a06-49fb-47b5-c6c6-3567942ac57e"
      },
      "outputs": [
        {
          "name": "stdout",
          "output_type": "stream",
          "text": [
            "[ 2.1900e+02  4.9800e+02  1.0710e+03  5.1000e+02  1.9710e+03 -1.0000e+00\n",
            "  4.8000e+01  9.0000e+00  0.0000e+00  1.0000e+00  1.0200e+02  7.9800e+03\n",
            "  2.0665e+04  1.8630e+03]\n"
          ]
        }
      ],
      "source": [
        "test_data = test_work[['job_encoded','jobtype_encoded', 'employee_lv', 'bithYear','gender', 'company_type','cumulative_work', 'id_management', 'io_encoded',\n",
        "                         'addx_encoded', 'addnorx_encoded', 'addy_encoded', 'addnory_encoded']].to_dict('records')\n",
        "test_id = test_work['id_bh'].tolist()\n",
        "X_test = vec.transform(test_data).toarray()\n",
        "print(X_test[1])"
      ]
    },
    {
      "cell_type": "code",
      "execution_count": 89,
      "metadata": {
        "id": "c5QFX8zcLGc1"
      },
      "outputs": [],
      "source": [
        "Y_train = train_work['label']"
      ]
    },
    {
      "cell_type": "code",
      "execution_count": null,
      "metadata": {},
      "outputs": [],
      "source": [
        "multi_model = XGBClassifier()\n",
        "# Add silent=True to avoid printing out updates with each cycle\n",
        "multi_model.fit(X_train, Y_train, verbose=False)"
      ]
    },
    {
      "cell_type": "code",
      "execution_count": null,
      "metadata": {
        "id": "SkmXUb6VLPkq"
      },
      "outputs": [],
      "source": [
        "prediction = multi_model.predict(X_test)"
      ]
    },
    {
      "cell_type": "code",
      "execution_count": null,
      "metadata": {
        "id": "OIMLoe-qLRLA"
      },
      "outputs": [],
      "source": [
        "output = pd.DataFrame({'id_bh': test_id, 'label': prediction})\n",
        "output.to_csv('prediction_test.csv', index=False)"
      ]
    }
  ],
  "metadata": {
    "colab": {
      "collapsed_sections": [],
      "name": "AIHW3.ipynb",
      "provenance": []
    },
    "interpreter": {
      "hash": "68aee8fdeddc7f08cf004c6dcd075eda7148d620b83a862ce3ce482342904914"
    },
    "kernelspec": {
      "display_name": "Python 3.10.2 ('env': venv)",
      "language": "python",
      "name": "python3"
    },
    "language_info": {
      "codemirror_mode": {
        "name": "ipython",
        "version": 3
      },
      "file_extension": ".py",
      "mimetype": "text/x-python",
      "name": "python",
      "nbconvert_exporter": "python",
      "pygments_lexer": "ipython3",
      "version": "3.10.2"
    }
  },
  "nbformat": 4,
  "nbformat_minor": 0
}
